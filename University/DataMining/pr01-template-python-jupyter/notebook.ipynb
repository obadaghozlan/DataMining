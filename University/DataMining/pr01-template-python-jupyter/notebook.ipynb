{
 "cells": [
  {
   "cell_type": "code",
   "execution_count": null,
   "metadata": {},
   "outputs": [],
   "source": [
    "from PIL import Image\n",
    "import numpy as np\n",
    "from matplotlib.pyplot import imshow\n",
    "import clustering_algorithms\n",
    "\n",
    "# Load an image:\n",
    "image_path = '/path/to/your/image'\n",
    "image = Image.open(image_path)\n",
    "pixels = image.load()\n",
    "width, height = image.size\n",
    "\n",
    "# Display image in notebook:\n",
    "%matplotlib inline\n",
    "imshow(np.asarray(image))"
   ]
  },
  {
   "cell_type": "code",
   "execution_count": null,
   "metadata": {},
   "outputs": [],
   "source": [
    "# Turn image into list of vectors (1 vector / pixel):\n",
    "vector_list = []\n",
    "for x in range(width):\n",
    "    for y in range(height):\n",
    "        current_point = []\n",
    "        current_point.append(pixels[x, y][0])\n",
    "        current_point.append(pixels[x, y][1])\n",
    "        current_point.append(pixels[x, y][2])\n",
    "\n",
    "        current_vector = np.array(current_point)\n",
    "        vector_list.append(current_vector)\n",
    "\n",
    "print('Image file with dimensions {}x{} pixels turned into {} vectors.'.format(width, height, len(vector_list)))"
   ]
  },
  {
   "cell_type": "code",
   "execution_count": null,
   "metadata": {},
   "outputs": [],
   "source": [
    "# Perform clustering on the vectors:\n",
    "dbscan_clusters = clustering_algorithms.dbscan(vector_list, minpts=5, epsilon=5)\n",
    "kmeans_clusters = clustering_algorithms.kmeans(vector_list, 4)"
   ]
  },
  {
   "cell_type": "code",
   "execution_count": null,
   "metadata": {},
   "outputs": [],
   "source": [
    "# Convert the clusters back into an image:\n",
    "# This code assumes that the result is a list that\n",
    "# is as long as the list of points and contains the \n",
    "# cluster number for each point with the corresponding\n",
    "# position in the list.\n",
    "# E. g. [1, 4, 2, 1, 1, 4, 2, 2, 3, ...])\n",
    "def clusters_to_image(cluster_per_point_list: list, points: list, width, height):\n",
    "    assert(len(cluster_per_point_list) == len(points))\n",
    "\n",
    "    cluster_count = max(cluster_per_point_list) + 1\n",
    "    inverted_clusters = [[] for _ in range(cluster_count)]\n",
    "\n",
    "    for i in range(len(cluster_per_point_list)):\n",
    "        inverted_clusters[cluster_per_point_list[i]].append(points[i])\n",
    "\n",
    "    mean_colors = [np.array([0, 0, 0]) for _ in range(cluster_count)]\n",
    "    counter =  [0 for _ in range(cluster_count)]\n",
    "    for i in range(cluster_count):\n",
    "        for elem in inverted_clusters[i]:\n",
    "            mean_colors[i] = np.add(mean_colors[i], elem)\n",
    "            counter[i] += 1\n",
    "\n",
    "        mean_colors[i] = np.divide(mean_colors[i], np.array([counter[i], counter[i], counter[i]]))\n",
    "\n",
    "    clustered_image = Image.new('RGB', (width, height))\n",
    "    pix = clustered_image.load()\n",
    "    for x in range(width):\n",
    "        for y in range(height):\n",
    "            cl_id = cluster_per_point_list[y + x * height]\n",
    "            if cl_id == -1:\n",
    "                pix[x, y] = (0, 0, 0)\n",
    "            else:\n",
    "                curr_pixel = [int(x) for x in mean_colors[cl_id]]\n",
    "                pix[x, y] = tuple(curr_pixel)\n",
    "\n",
    "    return clustered_image\n",
    "\n",
    "clustered_image = clusters_to_image(\n",
    "    kmeans_clusters, vector_list, width, height)\n",
    "\n",
    "# Display the clustered image:\n",
    "%matplotlib inline\n",
    "imshow(np.asarray(clustered_image))"
   ]
  }
 ],
 "metadata": {
  "interpreter": {
   "hash": "31f2aee4e71d21fbe5cf8b01ff0e069b9275f58929596ceb00d14d90e3e16cd6"
  },
  "kernelspec": {
   "display_name": "Python 3",
   "language": "python",
   "name": "python3"
  },
  "language_info": {
   "codemirror_mode": {
    "name": "ipython",
    "version": 2
   },
   "file_extension": ".py",
   "mimetype": "text/x-python",
   "name": "python",
   "nbconvert_exporter": "python",
   "pygments_lexer": "ipython2",
   "version": "2.7.17"
  }
 },
 "nbformat": 4,
 "nbformat_minor": 2
}
